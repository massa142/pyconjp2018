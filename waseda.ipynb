{
 "cells": [
  {
   "cell_type": "markdown",
   "metadata": {},
   "source": [
    "# 2018年度 早稲田大学 基幹理工・創造理工・先進理工 数学\n",
    "## ［Ⅱ］"
   ]
  },
  {
   "cell_type": "markdown",
   "metadata": {},
   "source": [
    "![](images/waseda_0216_sugaku_mon2_01.jpg)"
   ]
  },
  {
   "cell_type": "code",
   "execution_count": 1,
   "metadata": {},
   "outputs": [],
   "source": [
    "import sympy as sy"
   ]
  },
  {
   "cell_type": "code",
   "execution_count": 2,
   "metadata": {},
   "outputs": [],
   "source": [
    "sy.init_printing(use_latex='mathjax')"
   ]
  },
  {
   "cell_type": "code",
   "execution_count": 3,
   "metadata": {},
   "outputs": [],
   "source": [
    "x, y = sy.symbols('x y', real=True)"
   ]
  },
  {
   "cell_type": "code",
   "execution_count": 4,
   "metadata": {},
   "outputs": [],
   "source": [
    "y = x + 1\n",
    "y = -3 *x + 5\n",
    "y = -1/4 * x**2 - 1/2*x - 5/4"
   ]
  },
  {
   "cell_type": "code",
   "execution_count": 40,
   "metadata": {},
   "outputs": [
    {
     "data": {
      "image/png": "[encoded data removed]",
      "text/plain": [
       "<Figure size 432x288 with 1 Axes>"
      ]
     },
     "metadata": {},
     "output_type": "display_data"
    },
    {
     "data": {
      "text/plain": [
       "<sympy.plotting.plot.Plot at 0x110f30cf8>"
      ]
     },
     "execution_count": 40,
     "metadata": {},
     "output_type": "execute_result"
    }
   ],
   "source": [
    "sy.plot(x+1, -3 *x + 5, -1/4 * x**2 - 1/2*x - 5/4)"
   ]
  },
  {
   "cell_type": "code",
   "execution_count": 41,
   "metadata": {},
   "outputs": [
    {
     "data": {
      "text/latex": [
       "$$\\left [ 1\\right ]$$"
      ],
      "text/plain": [
       "[1]"
      ]
     },
     "execution_count": 41,
     "metadata": {},
     "output_type": "execute_result"
    }
   ],
   "source": [
    "sy.solve(sy.Eq(x + 1, -3 *x + 5))"
   ]
  },
  {
   "cell_type": "code",
   "execution_count": 46,
   "metadata": {},
   "outputs": [
    {
     "data": {
      "text/latex": [
       "$$\\left [ -3.0\\right ]$$"
      ],
      "text/plain": [
       "[-3.0]"
      ]
     },
     "execution_count": 46,
     "metadata": {},
     "output_type": "execute_result"
    }
   ],
   "source": [
    "sy.solve((x + 1) - (-1/4 * x**2 - 1/2*x - 5/4))"
   ]
  },
  {
   "cell_type": "code",
   "execution_count": 47,
   "metadata": {},
   "outputs": [
    {
     "data": {
      "text/latex": [
       "$$\\left [ 5.0\\right ]$$"
      ],
      "text/plain": [
       "[5.0]"
      ]
     },
     "execution_count": 47,
     "metadata": {},
     "output_type": "execute_result"
    }
   ],
   "source": [
    "sy.solve((-3 *x + 5) - (-1/4 * x**2 - 1/2*x - 5/4) )"
   ]
  },
  {
   "cell_type": "code",
   "execution_count": 50,
   "metadata": {},
   "outputs": [
    {
     "data": {
      "text/latex": [
       "$$10.6666666666667$$"
      ],
      "text/plain": [
       "10.6666666666667"
      ]
     },
     "execution_count": 50,
     "metadata": {},
     "output_type": "execute_result"
    }
   ],
   "source": [
    "sy.integrate((x + 1) - (-1/4 * x**2 - 1/2*x - 5/4), (x, -3, 1)) + sy.integrate((-3 *x + 5) - (-1/4 * x**2 - 1/2*x - 5/4), (x, 1, 5)) "
   ]
  },
  {
   "cell_type": "code",
   "execution_count": 51,
   "metadata": {},
   "outputs": [],
   "source": [
    "expr = _"
   ]
  },
  {
   "cell_type": "code",
   "execution_count": 52,
   "metadata": {},
   "outputs": [],
   "source": [
    "from fractions import Fraction"
   ]
  },
  {
   "cell_type": "code",
   "execution_count": 57,
   "metadata": {},
   "outputs": [
    {
     "data": {
      "text/plain": [
       "Fraction(32, 3)"
      ]
     },
     "execution_count": 57,
     "metadata": {},
     "output_type": "execute_result"
    }
   ],
   "source": [
    "Fraction(str(expr)).limit_denominator(9)"
   ]
  },
  {
   "cell_type": "code",
   "execution_count": 98,
   "metadata": {},
   "outputs": [
    {
     "name": "stdout",
     "output_type": "stream",
     "text": [
      "-2 -1.25000000000000 -1\n",
      "-1 -1.00000000000000 0\n",
      "0 -1.25000000000000 1\n",
      "1 -2.00000000000000 2\n",
      "2 -3.25000000000000 -1\n",
      "3 -5.00000000000000 -4\n",
      "4 -7.25000000000000 -7\n"
     ]
    }
   ],
   "source": [
    "for i in range(-2, 5):\n",
    "    f1 = (-1/4 * x**2 - 1/2*x - 5/4).subs({x: i})\n",
    "    if i < 1:\n",
    "        f2 = (x + 1).subs({x: i})\n",
    "        print(i, f1, f2)\n",
    "    else:\n",
    "        f3 = (-3 *x + 5).subs({x: i})\n",
    "        print(i, f1, f3)"
   ]
  },
  {
   "cell_type": "code",
   "execution_count": 99,
   "metadata": {},
   "outputs": [
    {
     "data": {
      "text/latex": [
       "$$\\left ( \\left ( 0, \\quad -1\\right ), \\quad \\left ( 0, \\quad 0\\right ), \\quad \\left ( 1, \\quad -1\\right ), \\quad \\left ( 1, \\quad 0\\right ), \\quad \\left ( 1, \\quad 1\\right ), \\quad \\left ( 2, \\quad -3\\right ), \\quad \\left ( 2, \\quad -2\\right )\\right )$$"
      ],
      "text/plain": [
       "((0, -1), (0, 0), (1, -1), (1, 0), (1, 1), (2, -3), (2, -2))"
      ]
     },
     "execution_count": 99,
     "metadata": {},
     "output_type": "execute_result"
    }
   ],
   "source": [
    "(0, -1), (0, 0), (1, -1), (1, 0), (1, 1), (2, -3), (2, -2)"
   ]
  }
 ],
 "metadata": {
  "kernelspec": {
   "display_name": "Python 3",
   "language": "python",
   "name": "python3"
  },
  "language_info": {
   "codemirror_mode": {
    "name": "ipython",
    "version": 3
   },
   "file_extension": ".py",
   "mimetype": "text/x-python",
   "name": "python",
   "nbconvert_exporter": "python",
   "pygments_lexer": "ipython3",
   "version": "3.6.3"
  }
 },
 "nbformat": 4,
 "nbformat_minor": 2
}
