{
 "cells": [
  {
   "cell_type": "markdown",
   "metadata": {},
   "source": [
    "# 2018年度センター試験 数学II・数学B\n",
    "## 第1問"
   ]
  },
  {
   "attachments": {},
   "cell_type": "markdown",
   "metadata": {},
   "source": [
    "![sugaku-2b_101.gif](images/sugaku-2b_101.gif)"
   ]
  },
  {
   "attachments": {},
   "cell_type": "markdown",
   "metadata": {},
   "source": [
    "[ラジアン - Wikipedia](https://ja.wikipedia.org/wiki/%E3%83%A9%E3%82%B8%E3%82%A2%E3%83%B3)\n",
    "![400px-Radian_cropped_color.svg.png](images/radian.png)\n",
    "> 定義\t円の半径に等しい長さの弧の中心に対する角度\n"
   ]
  },
  {
   "cell_type": "code",
   "execution_count": 1,
   "metadata": {},
   "outputs": [],
   "source": [
    "# ア: ② 半径が1、弧の長さが１の扇形の中心角の大きさ"
   ]
  },
  {
   "cell_type": "code",
   "execution_count": 2,
   "metadata": {},
   "outputs": [],
   "source": [
    "import sympy as sy"
   ]
  },
  {
   "cell_type": "code",
   "execution_count": 3,
   "metadata": {},
   "outputs": [],
   "source": [
    "sy.init_printing(use_latex='mathjax')"
   ]
  },
  {
   "cell_type": "code",
   "execution_count": 4,
   "metadata": {},
   "outputs": [],
   "source": [
    "radian = sy.Symbol('ラジアン')"
   ]
  },
  {
   "cell_type": "code",
   "execution_count": 5,
   "metadata": {},
   "outputs": [
    {
     "data": {
      "text/latex": [
       "$$\\pi ラジアン$$"
      ],
      "text/plain": [
       "π⋅ラジアン"
      ]
     },
     "execution_count": 5,
     "metadata": {},
     "output_type": "execute_result"
    }
   ],
   "source": [
    "sy.pi * radian # 180°"
   ]
  },
  {
   "cell_type": "code",
   "execution_count": 6,
   "metadata": {},
   "outputs": [
    {
     "data": {
      "text/latex": [
       "$$0.8 \\pi ラジアン$$"
      ],
      "text/plain": [
       "0.8⋅π⋅ラジアン"
      ]
     },
     "execution_count": 6,
     "metadata": {},
     "output_type": "execute_result"
    }
   ],
   "source": [
    "sy.simplify(144/180 * sy.pi * radian)"
   ]
  },
  {
   "cell_type": "code",
   "execution_count": 7,
   "metadata": {},
   "outputs": [
    {
     "data": {
      "text/latex": [
       "$$\\frac{4 \\pi ラジアン}{5}$$"
      ],
      "text/plain": [
       "4⋅π⋅ラジアン\n",
       "────────\n",
       "   5    "
      ]
     },
     "execution_count": 7,
     "metadata": {},
     "output_type": "execute_result"
    }
   ],
   "source": [
    "sy.simplify(144/180 * sy.pi * radian, rational=True)"
   ]
  },
  {
   "cell_type": "code",
   "execution_count": 8,
   "metadata": {},
   "outputs": [],
   "source": [
    "# イ: 4\n",
    "# ウ: 5"
   ]
  },
  {
   "cell_type": "code",
   "execution_count": 9,
   "metadata": {},
   "outputs": [
    {
     "data": {
      "text/latex": [
       "$$345.0$$"
      ],
      "text/plain": [
       "345.000000000000"
      ]
     },
     "execution_count": 9,
     "metadata": {},
     "output_type": "execute_result"
    }
   ],
   "source": [
    "180 * (23/12 * sy.pi * radian) / (sy.pi * radian)"
   ]
  },
  {
   "cell_type": "code",
   "execution_count": 10,
   "metadata": {},
   "outputs": [],
   "source": [
    "# エオカ: 345"
   ]
  },
  {
   "attachments": {},
   "cell_type": "markdown",
   "metadata": {},
   "source": [
    "![sugaku-2b_102.gif](images/sugaku-2b_102.gif)"
   ]
  },
  {
   "cell_type": "code",
   "execution_count": 11,
   "metadata": {},
   "outputs": [],
   "source": [
    "x, θ = sy.symbols('x θ', real=True, positive=True)"
   ]
  },
  {
   "cell_type": "code",
   "execution_count": 12,
   "metadata": {},
   "outputs": [],
   "source": [
    "expr = 2*sy.sin(θ + sy.pi/5) - 2*sy.cos(θ + sy.pi/30) - 1"
   ]
  },
  {
   "cell_type": "code",
   "execution_count": 13,
   "metadata": {},
   "outputs": [
    {
     "data": {
      "text/latex": [
       "$$2 \\sin{\\left (x \\right )} - 2 \\sin{\\left (x + \\frac{\\pi}{3} \\right )} - 1$$"
      ],
      "text/plain": [
       "                ⎛    π⎞    \n",
       "2⋅sin(x) - 2⋅sin⎜x + ─⎟ - 1\n",
       "                ⎝    3⎠    "
      ]
     },
     "execution_count": 13,
     "metadata": {},
     "output_type": "execute_result"
    }
   ],
   "source": [
    "expr.subs({θ: x-sy.pi/5})"
   ]
  },
  {
   "cell_type": "code",
   "execution_count": 14,
   "metadata": {},
   "outputs": [
    {
     "data": {
      "text/latex": [
       "$$2 \\cos{\\left (x - \\frac{\\pi}{6} \\right )}$$"
      ],
      "text/plain": [
       "     ⎛    π⎞\n",
       "2⋅cos⎜x - ─⎟\n",
       "     ⎝    6⎠"
      ]
     },
     "execution_count": 14,
     "metadata": {},
     "output_type": "execute_result"
    }
   ],
   "source": [
    "2*sy.sin(x + sy.pi/3).rewrite(sy.sin, sy.cos)"
   ]
  },
  {
   "cell_type": "code",
   "execution_count": 15,
   "metadata": {},
   "outputs": [],
   "source": [
    "# キ: 6"
   ]
  },
  {
   "cell_type": "code",
   "execution_count": 16,
   "metadata": {},
   "outputs": [],
   "source": [
    "expr2 = 2*sy.sin(x) - 2*sy.cos(x - sy.pi/6) - 1"
   ]
  },
  {
   "cell_type": "code",
   "execution_count": 17,
   "metadata": {},
   "outputs": [
    {
     "data": {
      "text/latex": [
       "$$\\sin{\\left (x \\right )} - \\sqrt{3} \\cos{\\left (x \\right )} - 1$$"
      ],
      "text/plain": [
       "sin(x) - √3⋅cos(x) - 1"
      ]
     },
     "execution_count": 17,
     "metadata": {},
     "output_type": "execute_result"
    }
   ],
   "source": [
    "sy.expand(expr2, trig=True)"
   ]
  },
  {
   "cell_type": "code",
   "execution_count": 18,
   "metadata": {},
   "outputs": [],
   "source": [
    "# ク: 3"
   ]
  },
  {
   "cell_type": "code",
   "execution_count": 19,
   "metadata": {},
   "outputs": [
    {
     "data": {
      "text/latex": [
       "$$- 2 \\cos{\\left (x + \\frac{\\pi}{6} \\right )} - 1$$"
      ],
      "text/plain": [
       "       ⎛    π⎞    \n",
       "- 2⋅cos⎜x + ─⎟ - 1\n",
       "       ⎝    6⎠    "
      ]
     },
     "execution_count": 19,
     "metadata": {},
     "output_type": "execute_result"
    }
   ],
   "source": [
    "sy.simplify(_)"
   ]
  },
  {
   "cell_type": "code",
   "execution_count": 20,
   "metadata": {},
   "outputs": [
    {
     "data": {
      "text/latex": [
       "$$- 2 \\sin{\\left (x + \\frac{2 \\pi}{3} \\right )} - 1$$"
      ],
      "text/plain": [
       "       ⎛    2⋅π⎞    \n",
       "- 2⋅sin⎜x + ───⎟ - 1\n",
       "       ⎝     3 ⎠    "
      ]
     },
     "execution_count": 20,
     "metadata": {},
     "output_type": "execute_result"
    }
   ],
   "source": [
    "_.rewrite(sy.cos, sy.sin)"
   ]
  },
  {
   "cell_type": "code",
   "execution_count": 21,
   "metadata": {},
   "outputs": [
    {
     "data": {
      "text/latex": [
       "$$- \\sin{\\left (x + \\frac{2 \\pi}{3} \\right )} - \\frac{1}{2}$$"
      ],
      "text/plain": [
       "     ⎛    2⋅π⎞   1\n",
       "- sin⎜x + ───⎟ - ─\n",
       "     ⎝     3 ⎠   2"
      ]
     },
     "execution_count": 21,
     "metadata": {},
     "output_type": "execute_result"
    }
   ],
   "source": [
    "_/2"
   ]
  },
  {
   "cell_type": "code",
   "execution_count": 22,
   "metadata": {},
   "outputs": [
    {
     "data": {
      "text/latex": [
       "$$- \\cos{\\left (x + \\frac{\\pi}{6} \\right )} - 0.5$$"
      ],
      "text/plain": [
       "     ⎛    π⎞      \n",
       "- cos⎜x + ─⎟ - 0.5\n",
       "     ⎝    6⎠      "
      ]
     },
     "execution_count": 22,
     "metadata": {},
     "output_type": "execute_result"
    }
   ],
   "source": [
    "sy.sin(x - sy.pi/3) - 1/2"
   ]
  },
  {
   "cell_type": "code",
   "execution_count": 23,
   "metadata": {},
   "outputs": [
    {
     "data": {
      "text/plain": [
       "True"
      ]
     },
     "execution_count": 23,
     "metadata": {},
     "output_type": "execute_result"
    }
   ],
   "source": [
    "sy.sin(x - sy.pi/3) - 1/2 == -sy.sin(x + 2*sy.pi/3) - 1/2 #  sin(180°　+　θ)　=　−sinθ"
   ]
  },
  {
   "cell_type": "code",
   "execution_count": 24,
   "metadata": {},
   "outputs": [],
   "source": [
    "# ケ: 3\n",
    "# コ: 2"
   ]
  },
  {
   "cell_type": "code",
   "execution_count": 25,
   "metadata": {},
   "outputs": [
    {
     "data": {
      "text/latex": [
       "$$\\left [ \\frac{29 \\pi}{30}, \\quad i \\left(\\log{\\left (2 \\right )} - \\log{\\left (\\frac{- \\left(-1\\right)^{\\frac{7}{30}} - \\sqrt{- 7 \\left(-1\\right)^{\\frac{7}{15}} + 4 \\left(-1\\right)^{\\frac{2}{15}} + 4 \\left(-1\\right)^{\\frac{4}{5}}}}{\\left(-1\\right)^{\\frac{14}{15}} + e^{\\frac{4 i \\pi}{15}}} \\right )}\\right), \\quad i \\left(\\log{\\left (2 \\right )} - \\log{\\left (\\frac{\\sqrt{- 7 \\left(-1\\right)^{\\frac{7}{15}} + 4 \\left(-1\\right)^{\\frac{2}{15}} + 4 \\left(-1\\right)^{\\frac{4}{5}}} - \\left(-1\\right)^{\\frac{7}{30}}}{\\left(-1\\right)^{\\frac{14}{15}} + e^{\\frac{4 i \\pi}{15}}} \\right )}\\right)\\right ]$$"
      ],
      "text/plain": [
       "⎡        ⎛            ⎛                _______________________________________\n",
       "⎢        ⎜            ⎜      7/30     ╱         7/15         2/15         4/5 \n",
       "⎢29⋅π    ⎜            ⎜- (-1)     - ╲╱  - 7⋅(-1)     + 4⋅(-1)     + 4⋅(-1)    \n",
       "⎢────, ⅈ⋅⎜log(2) - log⎜───────────────────────────────────────────────────────\n",
       "⎢ 30     ⎜            ⎜                        14    4⋅ⅈ⋅π                    \n",
       "⎢        ⎜            ⎜                        ──    ─────                    \n",
       "⎢        ⎜            ⎜                        15      15                     \n",
       "⎣        ⎝            ⎝                    (-1)   + ℯ                         \n",
       "\n",
       "⎞⎞    ⎛            ⎛   _______________________________________           ⎞⎞⎤\n",
       "⎟⎟    ⎜            ⎜  ╱         7/15         2/15         4/5        7/30⎟⎟⎥\n",
       "⎟⎟    ⎜            ⎜╲╱  - 7⋅(-1)     + 4⋅(-1)     + 4⋅(-1)     - (-1)    ⎟⎟⎥\n",
       "⎟⎟, ⅈ⋅⎜log(2) - log⎜─────────────────────────────────────────────────────⎟⎟⎥\n",
       "⎟⎟    ⎜            ⎜                       14    4⋅ⅈ⋅π                   ⎟⎟⎥\n",
       "⎟⎟    ⎜            ⎜                       ──    ─────                   ⎟⎟⎥\n",
       "⎟⎟    ⎜            ⎜                       15      15                    ⎟⎟⎥\n",
       "⎠⎠    ⎝            ⎝                   (-1)   + ℯ                        ⎠⎠⎦"
      ]
     },
     "execution_count": 25,
     "metadata": {},
     "output_type": "execute_result"
    }
   ],
   "source": [
    "sy.solve(expr)"
   ]
  },
  {
   "cell_type": "code",
   "execution_count": 26,
   "metadata": {},
   "outputs": [],
   "source": [
    "# サシ: 29\n",
    "# スセ: 30"
   ]
  },
  {
   "attachments": {},
   "cell_type": "markdown",
   "metadata": {},
   "source": [
    "![sugaku-2b_103.gif](images/sugaku-2b_103.gif)"
   ]
  },
  {
   "cell_type": "code",
   "execution_count": 27,
   "metadata": {},
   "outputs": [],
   "source": [
    "t = sy.Symbol('t')"
   ]
  },
  {
   "cell_type": "code",
   "execution_count": 28,
   "metadata": {},
   "outputs": [],
   "source": [
    "x, c = sy.symbols('x c', real=True, positive=True)"
   ]
  },
  {
   "cell_type": "code",
   "execution_count": 29,
   "metadata": {},
   "outputs": [
    {
     "data": {
      "text/latex": [
       "$$\\frac{\\log{\\left (x^{\\frac{\\log{\\left (x \\right )}}{\\log{\\left (3 \\right )}}} \\right )}}{\\log{\\left (3 \\right )}} - \\frac{\\log{\\left (\\frac{x^{3}}{c^{3}} \\right )}}{\\log{\\left (3 \\right )}}$$"
      ],
      "text/plain": [
       "                  ⎛ 3⎞\n",
       "   ⎛ log(x)⎞      ⎜x ⎟\n",
       "   ⎜ ──────⎟   log⎜──⎟\n",
       "   ⎜ log(3)⎟      ⎜ 3⎟\n",
       "log⎝x      ⎠      ⎝c ⎠\n",
       "──────────── - ───────\n",
       "   log(3)       log(3)"
      ]
     },
     "execution_count": 29,
     "metadata": {},
     "output_type": "execute_result"
    }
   ],
   "source": [
    "sy.log(x**sy.log(x, 3), 3) - sy.log((x/c)**3, 3)"
   ]
  },
  {
   "cell_type": "code",
   "execution_count": 30,
   "metadata": {},
   "outputs": [
    {
     "data": {
      "text/latex": [
       "$$\\frac{3 \\log{\\left (c \\right )}}{\\log{\\left (3 \\right )}} + \\frac{\\log{\\left (x \\right )}^{2}}{\\log{\\left (3 \\right )}^{2}} - \\frac{3 \\log{\\left (x \\right )}}{\\log{\\left (3 \\right )}}$$"
      ],
      "text/plain": [
       "              2              \n",
       "3⋅log(c)   log (x)   3⋅log(x)\n",
       "──────── + ─────── - ────────\n",
       " log(3)       2       log(3) \n",
       "           log (3)           "
      ]
     },
     "execution_count": 30,
     "metadata": {},
     "output_type": "execute_result"
    }
   ],
   "source": [
    "sy.expand(_)"
   ]
  },
  {
   "cell_type": "code",
   "execution_count": 31,
   "metadata": {},
   "outputs": [],
   "source": [
    "t = sy.log(x,3)"
   ]
  },
  {
   "cell_type": "code",
   "execution_count": 32,
   "metadata": {},
   "outputs": [
    {
     "data": {
      "text/latex": [
       "$$\\frac{3 \\log{\\left (c \\right )}}{\\log{\\left (3 \\right )}} + \\frac{\\log{\\left (x \\right )}^{2}}{\\log{\\left (3 \\right )}^{2}} - \\frac{3 \\log{\\left (x \\right )}}{\\log{\\left (3 \\right )}}$$"
      ],
      "text/plain": [
       "              2              \n",
       "3⋅log(c)   log (x)   3⋅log(x)\n",
       "──────── + ─────── - ────────\n",
       " log(3)       2       log(3) \n",
       "           log (3)           "
      ]
     },
     "execution_count": 32,
     "metadata": {},
     "output_type": "execute_result"
    }
   ],
   "source": [
    "t**2 - 3*t + 3*sy.log(c,3)"
   ]
  },
  {
   "cell_type": "code",
   "execution_count": 33,
   "metadata": {},
   "outputs": [],
   "source": [
    "# ソ: 2\n",
    "# タ: 3"
   ]
  },
  {
   "cell_type": "code",
   "execution_count": 34,
   "metadata": {},
   "outputs": [],
   "source": [
    "expr3 = (t**2 - 3*t + 3*sy.log(c,3)).subs({c: sy.root(9, 3)})"
   ]
  },
  {
   "cell_type": "code",
   "execution_count": 35,
   "metadata": {},
   "outputs": [
    {
     "data": {
      "text/latex": [
       "$$\\left [ 1, \\quad 2\\right ]$$"
      ],
      "text/plain": [
       "[1, 2]"
      ]
     },
     "execution_count": 35,
     "metadata": {},
     "output_type": "execute_result"
    }
   ],
   "source": [
    "sy.solve(expr3, t)"
   ]
  },
  {
   "cell_type": "code",
   "execution_count": 36,
   "metadata": {},
   "outputs": [],
   "source": [
    "# チ：　1\n",
    "# ツ: 2"
   ]
  },
  {
   "cell_type": "code",
   "execution_count": 37,
   "metadata": {},
   "outputs": [
    {
     "data": {
      "text/latex": [
       "$$\\left [ 3, \\quad 9\\right ]$$"
      ],
      "text/plain": [
       "[3, 9]"
      ]
     },
     "execution_count": 37,
     "metadata": {},
     "output_type": "execute_result"
    }
   ],
   "source": [
    "sy.solve(expr3, x)"
   ]
  },
  {
   "cell_type": "code",
   "execution_count": 38,
   "metadata": {},
   "outputs": [
    {
     "data": {
      "text/plain": [
       "<Figure size 640x480 with 1 Axes>"
      ]
     },
     "metadata": {},
     "output_type": "display_data"
    }
   ],
   "source": [
    "p = sy.plotting.plot(t, 1, 2)"
   ]
  },
  {
   "cell_type": "code",
   "execution_count": 39,
   "metadata": {},
   "outputs": [],
   "source": [
    "# テ: 0\n",
    "# ト: 3\n",
    "# ナ: 9"
   ]
  },
  {
   "attachments": {},
   "cell_type": "markdown",
   "metadata": {},
   "source": [
    "![sugaku-2b_104.gif](images/sugaku-2b_104.gif)"
   ]
  },
  {
   "cell_type": "code",
   "execution_count": 40,
   "metadata": {},
   "outputs": [],
   "source": [
    "# ニ: ② 実数全体"
   ]
  },
  {
   "cell_type": "code",
   "execution_count": 41,
   "metadata": {},
   "outputs": [
    {
     "data": {
      "text/latex": [
       "$$\\frac{3 \\log{\\left (c \\right )}}{\\log{\\left (3 \\right )}} + \\frac{\\log{\\left (x \\right )}^{2}}{\\log{\\left (3 \\right )}^{2}} - \\frac{3 \\log{\\left (x \\right )}}{\\log{\\left (3 \\right )}}$$"
      ],
      "text/plain": [
       "              2              \n",
       "3⋅log(c)   log (x)   3⋅log(x)\n",
       "──────── + ─────── - ────────\n",
       " log(3)       2       log(3) \n",
       "           log (3)           "
      ]
     },
     "execution_count": 41,
     "metadata": {},
     "output_type": "execute_result"
    }
   ],
   "source": [
    "t**2 - 3*t + 3*sy.log(c,3)"
   ]
  },
  {
   "cell_type": "code",
   "execution_count": 42,
   "metadata": {},
   "outputs": [],
   "source": [
    "u = sy.Symbol('u')"
   ]
  },
  {
   "cell_type": "code",
   "execution_count": 43,
   "metadata": {},
   "outputs": [
    {
     "data": {
      "text/latex": [
       "$$u^{2} - 3 u + \\frac{3 \\log{\\left (c \\right )}}{\\log{\\left (3 \\right )}}$$"
      ],
      "text/plain": [
       " 2         3⋅log(c)\n",
       "u  - 3⋅u + ────────\n",
       "            log(3) "
      ]
     },
     "execution_count": 43,
     "metadata": {},
     "output_type": "execute_result"
    }
   ],
   "source": [
    "u**2 - 3*u + 3*sy.log(c,3)"
   ]
  },
  {
   "cell_type": "code",
   "execution_count": 44,
   "metadata": {},
   "outputs": [
    {
     "data": {
      "text/latex": [
       "$$2 u - 3$$"
      ],
      "text/plain": [
       "2⋅u - 3"
      ]
     },
     "execution_count": 44,
     "metadata": {},
     "output_type": "execute_result"
    }
   ],
   "source": [
    "sy.diff(_, u)"
   ]
  },
  {
   "cell_type": "code",
   "execution_count": 45,
   "metadata": {},
   "outputs": [
    {
     "data": {
      "text/latex": [
       "$$\\left [ \\frac{3}{2}\\right ]$$"
      ],
      "text/plain": [
       "[3/2]"
      ]
     },
     "execution_count": 45,
     "metadata": {},
     "output_type": "execute_result"
    }
   ],
   "source": [
    "sy.solve(_)"
   ]
  },
  {
   "cell_type": "code",
   "execution_count": 46,
   "metadata": {},
   "outputs": [
    {
     "data": {
      "text/latex": [
       "$$\\frac{3 \\log{\\left (c \\right )}}{\\log{\\left (3 \\right )}} - 2.25$$"
      ],
      "text/plain": [
       "3⋅log(c)       \n",
       "──────── - 2.25\n",
       " log(3)        "
      ]
     },
     "execution_count": 46,
     "metadata": {},
     "output_type": "execute_result"
    }
   ],
   "source": [
    "(t**2 - 3*t + 3*sy.log(c,3)).subs({t: 3/2})"
   ]
  },
  {
   "cell_type": "code",
   "execution_count": 47,
   "metadata": {},
   "outputs": [
    {
     "data": {
      "text/latex": [
       "$$\\frac{\\log{\\left (c \\right )}}{\\log{\\left (3 \\right )}} - 0.75$$"
      ],
      "text/plain": [
       "log(c)       \n",
       "────── - 0.75\n",
       "log(3)       "
      ]
     },
     "execution_count": 47,
     "metadata": {},
     "output_type": "execute_result"
    }
   ],
   "source": [
    "_/3"
   ]
  },
  {
   "cell_type": "code",
   "execution_count": 48,
   "metadata": {},
   "outputs": [],
   "source": [
    "# ヌ： 3\n",
    "# ネ: 4"
   ]
  },
  {
   "cell_type": "code",
   "execution_count": 49,
   "metadata": {},
   "outputs": [
    {
     "data": {
      "text/latex": [
       "$$\\left [ 3^{\\frac{3}{4}}\\right ]$$"
      ],
      "text/plain": [
       "⎡ 3/4⎤\n",
       "⎣3   ⎦"
      ]
     },
     "execution_count": 49,
     "metadata": {},
     "output_type": "execute_result"
    }
   ],
   "source": [
    "sy.solve(_, rational=True)"
   ]
  },
  {
   "cell_type": "code",
   "execution_count": 50,
   "metadata": {},
   "outputs": [
    {
     "data": {
      "text/latex": [
       "$$3^{\\frac{3}{4}}$$"
      ],
      "text/plain": [
       " 3/4\n",
       "3   "
      ]
     },
     "execution_count": 50,
     "metadata": {},
     "output_type": "execute_result"
    }
   ],
   "source": [
    "sy.root(27,4)"
   ]
  },
  {
   "cell_type": "code",
   "execution_count": 51,
   "metadata": {},
   "outputs": [],
   "source": [
    "# ノ: 4\n",
    "# ハヒ: 27"
   ]
  }
 ],
 "metadata": {
  "kernelspec": {
   "display_name": "Python 3",
   "language": "python",
   "name": "python3"
  },
  "language_info": {
   "codemirror_mode": {
    "name": "ipython",
    "version": 3
   },
   "file_extension": ".py",
   "mimetype": "text/x-python",
   "name": "python",
   "nbconvert_exporter": "python",
   "pygments_lexer": "ipython3",
   "version": "3.6.3"
  }
 },
 "nbformat": 4,
 "nbformat_minor": 2
}
